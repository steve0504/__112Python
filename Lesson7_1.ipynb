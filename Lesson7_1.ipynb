{
 "cells": [
  {
   "cell_type": "code",
   "execution_count": 10,
   "metadata": {},
   "outputs": [
    {
     "name": "stdout",
     "output_type": "stream",
     "text": [
      "連線成功\n",
      "b'[{\"areaId\":3202,\"branchName\":\"\\xe7\\xa8\\xbb\\xe9\\xa6\\x99\\xe5\\x88\\x86\\xe9\\xa4\\xa8\",\"floorName\":\"7F\",\"areaName\":\"\\xe8\\xb3\\x87\\xe8\\xa8\\x8a\\xe6\\xaa\\xa2\\xe7\\xb4\\xa2\\xe5\\x8d\\x80\",\"freeCount\":3,\"totalCount\":6},{\"areaId\":3203,\"branchName\":\"\\xe7\\xa8\\xbb\\xe9\\xa6\\x99\\xe5\\x88\\x86\\xe9\\xa4\\xa8\",\"floorName\":\"8F\",\"areaName\":\"\\xe8\\xa8\\x8e\\xe8\\xab\\x96\\xe5\\xae\\xa4\",\"freeCount\":2,\"totalCount\":2},{\"areaId\":3204,\"branchName\":\"\\xe7\\xa8\\xbb\\xe9\\xa6\\x99\\xe5\\x88\\x86\\xe9\\xa4\\xa8\",\"floorName\":\"9F\",\"areaName\":\"\\xe8\\x87\\xaa\\xe4\\xbf\\xae\\xe5\\xae\\xa4\",\"freeCount\":44,\"totalCount\":93},{\"areaId\":3209,\"branchName\":\"\\xe7\\xb8\\xbd\\xe9\\xa4\\xa8\",\"floorName\":\"1F\",\"areaName\":\"\\xe6\\x95\\xb8\\xe4\\xbd\\x8de\\xe6\\xa8\\x82\\xe5\\x9c\\x92\",\"freeCount\":20,\"totalCount\":36},{\"areaId\":3211,\"branchName\":\"\\xe7\\xb8\\xbd\\xe9\\xa4\\xa8\",\"floorName\":\"6F\",\"areaName\":\"\\xe8\\x87\\xaa\\xe4\\xbf\\xae\\xe5\\xae\\xa4\",\"freeCount\":196,\"totalCount\":240},{\"areaId\":3212,\"branchName\":\"\\xe7\\xb8\\xbd\\xe9\\xa4\\xa8\",\"floorName\":\"8F\",\"areaName\":\"\\xe8\\xa6\\x96\\xe8\\x81\\xbd\\xe8\\xb3\\x87\\xe6\\x96\\x99\\xe9\\x96\\xb1\\xe8\\xa6\\xbd\\xe5\\xae\\xa4\",\"freeCount\":24,\"totalCount\":24},{\"areaId\":3213,\"branchName\":\"\\xe7\\xb8\\xbd\\xe9\\xa4\\xa8\",\"floorName\":\"8F\",\"areaName\":\"\\xe8\\xa6\\xaa\\xe5\\xad\\x90\\xe6\\xac\\xa3\\xe8\\xb3\\x9e\\xe5\\xae\\xa4\",\"freeCount\":3,\"totalCount\":3},{\"areaId\":3214,\"branchName\":\"\\xe7\\xb8\\xbd\\xe9\\xa4\\xa8\",\"floorName\":\"8F\",\"areaName\":\"\\xe5\\x9c\\x98\\xe9\\xab\\x94\\xe6\\xac\\xa3\\xe8\\xb3\\x9e\\xe5\\xae\\xa4\",\"freeCount\":0,\"totalCount\":62},{\"areaId\":3215,\"branchName\":\"\\xe7\\xb8\\xbd\\xe9\\xa4\\xa8\",\"floorName\":\"8F\",\"areaName\":\"\\xe5\\x85\\x92\\xe7\\xab\\xa5\\xe8\\xa6\\x96\\xe8\\x81\\xbd\\xe8\\xb3\\x87\\xe6\\x96\\x99\\xe9\\x96\\xb1\\xe8\\xa6\\xbd\\xe5\\xae\\xa4\",\"freeCount\":10,\"totalCount\":10},{\"areaId\":3216,\"branchName\":\"\\xe7\\xb8\\xbd\\xe9\\xa4\\xa8\",\"floorName\":\"8F\",\"areaName\":\"VOD\\xe9\\x9a\\xa8\\xe9\\x81\\xb8\\xe8\\xa6\\x96\\xe8\\x81\\xbd\\xe5\\x8d\\x80\",\"freeCount\":6,\"totalCount\":6},{\"areaId\":3205,\"branchName\":\"\\xe5\\xbb\\xa3\\xe6\\x85\\x88\\xe5\\x88\\x86\\xe9\\xa4\\xa8\",\"floorName\":\"3F\",\"areaName\":\"\\xe8\\x87\\xaa\\xe4\\xbf\\xae\\xe5\\xae\\xa4\",\"freeCount\":68,\"totalCount\":82},{\"areaId\":3206,\"branchName\":\"\\xe5\\xbb\\xa3\\xe6\\x85\\x88\\xe5\\x88\\x86\\xe9\\xa4\\xa8\",\"floorName\":\"3F\",\"areaName\":\"\\xe7\\xad\\x86\\xe9\\x9b\\xbb\\xe5\\x8d\\x80\",\"freeCount\":34,\"totalCount\":49},{\"areaId\":3217,\"branchName\":\"\\xe5\\xbb\\xa3\\xe6\\x85\\x88\\xe5\\x88\\x86\\xe9\\xa4\\xa8\",\"floorName\":\"3F\",\"areaName\":\"10\\xe4\\xba\\xba\\xe8\\xa8\\x8e\\xe8\\xab\\x96\\xe5\\xae\\xa4\",\"freeCount\":1,\"totalCount\":1},{\"areaId\":3218,\"branchName\":\"\\xe5\\xbb\\xa3\\xe6\\x85\\x88\\xe5\\x88\\x86\\xe9\\xa4\\xa8\",\"floorName\":\"3F\",\"areaName\":\"6\\xe4\\xba\\xba\\xe8\\xa8\\x8e\\xe8\\xab\\x96\\xe5\\xae\\xa4\",\"freeCount\":2,\"totalCount\":2},{\"areaId\":3208,\"branchName\":\"\\xe5\\xbb\\xa3\\xe6\\x85\\x88\\xe5\\x88\\x86\\xe9\\xa4\\xa8\",\"floorName\":\"4F\",\"areaName\":\"\\xe9\\x9b\\xbb\\xe8\\x85\\xa6\\xe5\\x8d\\x80\",\"freeCount\":2,\"totalCount\":5},{\"areaId\":3207,\"branchName\":\"\\xe8\\xa5\\xbf\\xe6\\xb9\\x96\\xe5\\x88\\x86\\xe9\\xa4\\xa8\",\"floorName\":\"B1\",\"areaName\":\"\\xe8\\x87\\xaa\\xe4\\xbf\\xae\\xe5\\x8d\\x80\",\"freeCount\":163,\"totalCount\":195},{\"areaId\":3200,\"branchName\":\"\\xe8\\xa5\\xbf\\xe6\\xb9\\x96\\xe5\\x88\\x86\\xe9\\xa4\\xa8\",\"floorName\":\"3F\",\"areaName\":\"\\xe5\\x80\\x8b\\xe4\\xba\\xba\\xe8\\xa6\\x96\\xe8\\x81\\xbd\\xe5\\x8d\\x80\",\"freeCount\":8,\"totalCount\":8},{\"areaId\":3201,\"branchName\":\"\\xe8\\xa5\\xbf\\xe6\\xb9\\x96\\xe5\\x88\\x86\\xe9\\xa4\\xa8\",\"floorName\":\"3F\",\"areaName\":\"\\xe5\\x9c\\x98\\xe9\\xab\\x94\\xe8\\xa6\\x96\\xe8\\x81\\xbd\\xe5\\xb0\\x8f\\xe9\\x96\\x93\",\"freeCount\":5,\"totalCount\":5}]'\n"
     ]
    }
   ],
   "source": [
    "import requests \n",
    "URL = 'https://seat.tpml.edu.tw/sm/service/getAllArea'\n",
    "response = requests.request(\"GET\",URL)\n",
    "if response.status_code == 200 :\n",
    "    print(\"連線成功\")\n",
    "    print(response.content)\n",
    "else :\n",
    "    print(f\"連線失敗:{response.status_code}\")"
   ]
  }
 ],
 "metadata": {
  "kernelspec": {
   "display_name": "Python 3",
   "language": "python",
   "name": "python3"
  },
  "language_info": {
   "codemirror_mode": {
    "name": "ipython",
    "version": 3
   },
   "file_extension": ".py",
   "mimetype": "text/x-python",
   "name": "python",
   "nbconvert_exporter": "python",
   "pygments_lexer": "ipython3",
   "version": "3.9.16"
  },
  "orig_nbformat": 4
 },
 "nbformat": 4,
 "nbformat_minor": 2
}
