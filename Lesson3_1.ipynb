{
 "cells": [
  {
   "cell_type": "code",
   "execution_count": 29,
   "metadata": {},
   "outputs": [
    {
     "name": "stdout",
     "output_type": "stream",
     "text": [
      "<class 'int'>\n"
     ]
    }
   ],
   "source": [
    "print(type(13))\n"
   ]
  },
  {
   "cell_type": "code",
   "execution_count": 30,
   "metadata": {},
   "outputs": [
    {
     "name": "stdout",
     "output_type": "stream",
     "text": [
      "程式結束\n"
     ]
    }
   ],
   "source": [
    "age = 10\n",
    "\n",
    "if age>=18 : #單向選擇\n",
    "    print(\"成年\")\n",
    "    print(\"可以考駕照\")\n",
    "print(\"程式結束\")"
   ]
  },
  {
   "cell_type": "code",
   "execution_count": 31,
   "metadata": {},
   "outputs": [
    {
     "name": "stdout",
     "output_type": "stream",
     "text": [
      "未成年\n",
      "可以騎腳踏車\n",
      "程式結束\n"
     ]
    }
   ],
   "source": [
    "age = 17\n",
    "\n",
    "if age>=18 : #雙向選擇\n",
    "    print(\"成年\")\n",
    "    print(\"可以考駕照\")\n",
    "else : \n",
    "    print(\"未成年\")\n",
    "    print(\"可以騎腳踏車\")\n",
    "print(\"程式結束\")"
   ]
  },
  {
   "cell_type": "code",
   "execution_count": 3,
   "metadata": {},
   "outputs": [
    {
     "name": "stdout",
     "output_type": "stream",
     "text": [
      "丁\n"
     ]
    }
   ],
   "source": [
    "分數=int(input(\"請輸入分數\"))\n",
    "if 分數>=90 :\n",
    "    print(\"優\")\n",
    "elif 分數>=89 :\n",
    "    print(\"甲\")\n",
    "elif 分數>=79:\n",
    "    print(\"乙\")\n",
    "elif 分數>=69:\n",
    "    print(\"丙\")\n",
    "else:\n",
    "    print(\"丁\")\n",
    "\n"
   ]
  },
  {
   "cell_type": "code",
   "execution_count": 7,
   "metadata": {},
   "outputs": [
    {
     "name": "stdout",
     "output_type": "stream",
     "text": [
      "未成年\n",
      "可以騎腳踏車\n",
      "程式結束\n"
     ]
    }
   ],
   "source": [
    "#no運算值\n",
    "age = 17\n",
    "\n",
    "if not age>=18 : #雙向選擇\n",
    "    print(\"未成年\")\n",
    "    print(\"可以騎腳踏車\")\n",
    "else : \n",
    "\n",
    "    print(\"成年\")\n",
    "    print(\"可以考駕照\")\n",
    "print(\"程式結束\")"
   ]
  },
  {
   "cell_type": "code",
   "execution_count": 10,
   "metadata": {},
   "outputs": [
    {
     "name": "stdout",
     "output_type": "stream",
     "text": [
      "獎金為:0\n"
     ]
    }
   ],
   "source": [
    "chinese = 50\n",
    "math =50\n",
    "\n",
    "if chinese == 100 and math==100 : \n",
    "    bouns =1000\n",
    "elif chinese == 100 or math==100 :\n",
    "    bouns =500\n",
    "else :\n",
    "    bouns = 0\n",
    "print(f\"獎金為:{bouns}\")\n"
   ]
  }
 ],
 "metadata": {
  "kernelspec": {
   "display_name": "Python 3",
   "language": "python",
   "name": "python3"
  },
  "language_info": {
   "codemirror_mode": {
    "name": "ipython",
    "version": 3
   },
   "file_extension": ".py",
   "mimetype": "text/x-python",
   "name": "python",
   "nbconvert_exporter": "python",
   "pygments_lexer": "ipython3",
   "version": "3.9.16"
  },
  "orig_nbformat": 4
 },
 "nbformat": 4,
 "nbformat_minor": 2
}
