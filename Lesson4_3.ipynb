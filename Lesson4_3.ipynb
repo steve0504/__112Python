{
 "cells": [
  {
   "cell_type": "code",
   "execution_count": 37,
   "metadata": {},
   "outputs": [],
   "source": [
    "def generate_stu():\n",
    "    return [78,98,65,91,78]\n",
    "\n",
    "\n"
   ]
  },
  {
   "cell_type": "code",
   "execution_count": 38,
   "metadata": {},
   "outputs": [
    {
     "data": {
      "text/plain": [
       "[78, 98, 65, 91, 78]"
      ]
     },
     "execution_count": 38,
     "metadata": {},
     "output_type": "execute_result"
    }
   ],
   "source": [
    "generate_stu()"
   ]
  },
  {
   "cell_type": "code",
   "execution_count": 39,
   "metadata": {},
   "outputs": [],
   "source": [
    "import random\n",
    "\n",
    "def generate_stu():\n",
    "    return[random.randint(50,100),random.randint(50,100),random.randint(50,100),random.randint(50,100),random.randint(50,100)]"
   ]
  },
  {
   "cell_type": "code",
   "execution_count": 40,
   "metadata": {},
   "outputs": [
    {
     "data": {
      "text/plain": [
       "[[71, 82, 96, 65, 84], [71, 95, 89, 97, 55], [57, 77, 81, 56, 100]]"
      ]
     },
     "execution_count": 40,
     "metadata": {},
     "output_type": "execute_result"
    }
   ],
   "source": [
    "student=[generate_stu(),generate_stu() ,generate_stu()]\n",
    "student"
   ]
  },
  {
   "cell_type": "code",
   "execution_count": 41,
   "metadata": {},
   "outputs": [
    {
     "data": {
      "text/plain": [
       "77"
      ]
     },
     "execution_count": 41,
     "metadata": {},
     "output_type": "execute_result"
    }
   ],
   "source": [
    "student[2][1]"
   ]
  },
  {
   "cell_type": "code",
   "execution_count": 42,
   "metadata": {},
   "outputs": [
    {
     "name": "stdout",
     "output_type": "stream",
     "text": [
      "[71, 82, 96, 65, 84]\n",
      "[71, 95, 89, 97, 55]\n",
      "[57, 77, 81, 56, 100]\n"
     ]
    }
   ],
   "source": [
    "for students in student :\n",
    "    print(students)\n"
   ]
  },
  {
   "cell_type": "code",
   "execution_count": 43,
   "metadata": {},
   "outputs": [
    {
     "name": "stdout",
     "output_type": "stream",
     "text": [
      "[71, 82, 96, 65, 84]\n",
      "[71, 82, 96, 65, 84]\n",
      "[71, 82, 96, 65, 84]\n",
      "[71, 95, 89, 97, 55]\n",
      "[71, 95, 89, 97, 55]\n",
      "[71, 95, 89, 97, 55]\n",
      "[57, 77, 81, 56, 100]\n",
      "[57, 77, 81, 56, 100]\n",
      "[57, 77, 81, 56, 100]\n"
     ]
    }
   ],
   "source": [
    "for students in student :\n",
    "   for value in student : \n",
    "    print(students)\n"
   ]
  }
 ],
 "metadata": {
  "kernelspec": {
   "display_name": "Python 3",
   "language": "python",
   "name": "python3"
  },
  "language_info": {
   "codemirror_mode": {
    "name": "ipython",
    "version": 3
   },
   "file_extension": ".py",
   "mimetype": "text/x-python",
   "name": "python",
   "nbconvert_exporter": "python",
   "pygments_lexer": "ipython3",
   "version": "3.9.16"
  },
  "orig_nbformat": 4
 },
 "nbformat": 4,
 "nbformat_minor": 2
}
