{
 "cells": [
  {
   "cell_type": "code",
   "execution_count": 4,
   "metadata": {},
   "outputs": [
    {
     "name": "stdout",
     "output_type": "stream",
     "text": [
      "總共存了3月,共存了909000\n"
     ]
    }
   ],
   "source": [
    "\n",
    "deposit=0\n",
    "num=0\n",
    "while(deposit<30000):\n",
    "    num +=1\n",
    "    input_value= int(input(f\"請輸入{num}月份的存款:\"))\n",
    "    deposit += input_value\n",
    "    \n",
    "print(f\"總共存了{num}月,共存了{deposit}\")"
   ]
  },
  {
   "cell_type": "code",
   "execution_count": 5,
   "metadata": {},
   "outputs": [
    {
     "name": "stdout",
     "output_type": "stream",
     "text": [
      "總共存了6月,共存了30000\n"
     ]
    }
   ],
   "source": [
    "\n",
    "deposit=0\n",
    "num=0\n",
    "while(True):\n",
    "    num +=1\n",
    "    input_value= int(input(f\"請輸入{num}月份的存款:\"))\n",
    "    deposit += input_value\n",
    "    if(deposit) >=30000:\n",
    "        break\n",
    "print(f\"總共存了{num}月,共存了{deposit}\")"
   ]
  },
  {
   "cell_type": "code",
   "execution_count": 7,
   "metadata": {},
   "outputs": [
    {
     "name": "stdout",
     "output_type": "stream",
     "text": [
      "所有輸入的正偶數加總30月\n"
     ]
    }
   ],
   "source": [
    "\n",
    "sum=0\n",
    "num=0\n",
    "while(True):\n",
    "    num +=1\n",
    "    input_num= int(input(f\"請輸入第{num}個數值:\"))\n",
    "    if input_num <0:\n",
    "        break\n",
    "    elif input_num % 2 ==1:\n",
    "        continue\n",
    "    else:\n",
    "        sum += input_num\n",
    "        \n",
    "print(f\"所有輸入的正偶數加總{sum}月\")"
   ]
  },
  {
   "cell_type": "code",
   "execution_count": 16,
   "metadata": {},
   "outputs": [
    {
     "name": "stdout",
     "output_type": "stream",
     "text": [
      "987654321的因數是\n",
      "1\n",
      "3\n",
      "9\n",
      "17\n",
      "51\n",
      "153\n",
      "289\n",
      "867\n",
      "2601\n",
      "379721\n",
      "1139163\n",
      "3417489\n",
      "6455257\n",
      "19365771\n",
      "58097313\n",
      "109739369\n",
      "329218107\n",
      "987654321\n",
      "結束\n"
     ]
    }
   ],
   "source": [
    "#求因數\n",
    "num=int(input(\"請輸入一個數值,並求其因數\"))\n",
    "print(f\"{num}的因數是\")\n",
    "for i in range(1, num+1):\n",
    "    if num % i ==0:\n",
    "        print(i)\n",
    "\n",
    "print(\"結束\")    "
   ]
  },
  {
   "cell_type": "code",
   "execution_count": 25,
   "metadata": {},
   "outputs": [],
   "source": [
    "#自訂的function\n",
    "def get_factor ():\n",
    "    #求因數\n",
    " num=int(input(\"請輸入一個數值,並求其因數\"))\n",
    " print(f\"{num}的因數是\")\n",
    " for i in range(1, num+1):\n",
    "    if num % i ==0:\n",
    "        print(i)\n",
    "\n",
    " print(\"_______結束\")  \n"
   ]
  },
  {
   "cell_type": "code",
   "execution_count": 27,
   "metadata": {},
   "outputs": [
    {
     "name": "stdout",
     "output_type": "stream",
     "text": [
      "3的因數是\n",
      "1\n",
      "3\n",
      "_______結束\n",
      "6的因數是\n",
      "1\n",
      "2\n",
      "3\n",
      "6\n",
      "_______結束\n",
      "9的因數是\n",
      "1\n",
      "3\n",
      "9\n",
      "_______結束\n"
     ]
    }
   ],
   "source": [
    "#呼叫function\n",
    "for i in range(3):\n",
    "  get_factor() \n",
    "\n",
    " \n",
    "\n"
   ]
  },
  {
   "cell_type": "code",
   "execution_count": 33,
   "metadata": {},
   "outputs": [
    {
     "data": {
      "text/plain": [
       "(78, 92, 35, 41, 69)"
      ]
     },
     "execution_count": 33,
     "metadata": {},
     "output_type": "execute_result"
    }
   ],
   "source": [
    "nums=(78,92,35,41,69)\n",
    "nums[0],nums[1],nums[2],nums[3],nums[4]\n",
    "\n"
   ]
  },
  {
   "cell_type": "code",
   "execution_count": 36,
   "metadata": {},
   "outputs": [
    {
     "name": "stdout",
     "output_type": "stream",
     "text": [
      "78\n",
      "92\n",
      "35\n",
      "41\n",
      "69\n"
     ]
    }
   ],
   "source": [
    "for i in range(5):\n",
    "     print(nums[i])"
   ]
  },
  {
   "cell_type": "code",
   "execution_count": 37,
   "metadata": {},
   "outputs": [
    {
     "name": "stdout",
     "output_type": "stream",
     "text": [
      "78\n",
      "92\n",
      "35\n",
      "41\n",
      "69\n"
     ]
    }
   ],
   "source": [
    "for Item in nums :\n",
    "    print(Item)"
   ]
  }
 ],
 "metadata": {
  "kernelspec": {
   "display_name": "Python 3",
   "language": "python",
   "name": "python3"
  },
  "language_info": {
   "codemirror_mode": {
    "name": "ipython",
    "version": 3
   },
   "file_extension": ".py",
   "mimetype": "text/x-python",
   "name": "python",
   "nbconvert_exporter": "python",
   "pygments_lexer": "ipython3",
   "version": "3.9.16"
  },
  "orig_nbformat": 4
 },
 "nbformat": 4,
 "nbformat_minor": 2
}
